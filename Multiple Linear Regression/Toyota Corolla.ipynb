{
 "cells": [
  {
   "cell_type": "markdown",
   "id": "6acb4962",
   "metadata": {},
   "source": [
    "## Consider only the below columns and prepare a prediction model for predicting Price.\n",
    "\n",
    "#### Corolla<-Corolla[c(\"Price\",\"Age_08_04\",\"KM\",\"HP\",\"cc\",\"Doors\",\"Gears\",\"Quarterly_Tax\",\"Weight\")]\n"
   ]
  },
  {
   "cell_type": "markdown",
   "id": "1f21f458",
   "metadata": {},
   "source": [
    "Price  -- Offer Price in EUROs\t\n",
    "\n",
    "Age_08_04 -- Age in months as in August 2004\t\n",
    "\n",
    "KM -- Accumulated Kilometers on odometer\n",
    "\n",
    "HP -- Horse Power\n",
    "\n",
    "cc -- Cylinder Volume in cubic centimeters\n",
    "\n",
    "Doors -- Number of doors\n",
    "\n",
    "Gears -- Number of gear positions\n",
    "\n",
    "Quarterly_Tax -- Quarterly road tax in EUROs\n",
    "\n",
    "Weight -- Weight in Kilograms\n"
   ]
  },
  {
   "cell_type": "markdown",
   "id": "6f6db061",
   "metadata": {},
   "source": [
    "# Import libraries"
   ]
  },
  {
   "cell_type": "code",
   "execution_count": 1,
   "id": "83c58803",
   "metadata": {},
   "outputs": [],
   "source": [
    "import pandas as pd\n",
    "import numpy as np\n",
    "from matplotlib import pyplot as plt\n",
    "import seaborn as sns\n",
    "import statsmodels.api as smf\n",
    "from statsmodels.formula.api import ols\n",
    "import warnings\n",
    "warnings.filterwarnings('ignore')"
   ]
  },
  {
   "cell_type": "markdown",
   "id": "f3b10fee",
   "metadata": {},
   "source": [
    "# Import data"
   ]
  },
  {
   "cell_type": "code",
   "execution_count": 2,
   "id": "3de07236",
   "metadata": {},
   "outputs": [
    {
     "data": {
      "text/html": [
       "<div>\n",
       "<style scoped>\n",
       "    .dataframe tbody tr th:only-of-type {\n",
       "        vertical-align: middle;\n",
       "    }\n",
       "\n",
       "    .dataframe tbody tr th {\n",
       "        vertical-align: top;\n",
       "    }\n",
       "\n",
       "    .dataframe thead th {\n",
       "        text-align: right;\n",
       "    }\n",
       "</style>\n",
       "<table border=\"1\" class=\"dataframe\">\n",
       "  <thead>\n",
       "    <tr style=\"text-align: right;\">\n",
       "      <th></th>\n",
       "      <th>Id</th>\n",
       "      <th>Model</th>\n",
       "      <th>Price</th>\n",
       "      <th>Age_08_04</th>\n",
       "      <th>Mfg_Month</th>\n",
       "      <th>Mfg_Year</th>\n",
       "      <th>KM</th>\n",
       "      <th>Fuel_Type</th>\n",
       "      <th>HP</th>\n",
       "      <th>Met_Color</th>\n",
       "      <th>...</th>\n",
       "      <th>Central_Lock</th>\n",
       "      <th>Powered_Windows</th>\n",
       "      <th>Power_Steering</th>\n",
       "      <th>Radio</th>\n",
       "      <th>Mistlamps</th>\n",
       "      <th>Sport_Model</th>\n",
       "      <th>Backseat_Divider</th>\n",
       "      <th>Metallic_Rim</th>\n",
       "      <th>Radio_cassette</th>\n",
       "      <th>Tow_Bar</th>\n",
       "    </tr>\n",
       "  </thead>\n",
       "  <tbody>\n",
       "    <tr>\n",
       "      <th>0</th>\n",
       "      <td>1</td>\n",
       "      <td>TOYOTA Corolla 2.0 D4D HATCHB TERRA 2/3-Doors</td>\n",
       "      <td>13500</td>\n",
       "      <td>23</td>\n",
       "      <td>10</td>\n",
       "      <td>2002</td>\n",
       "      <td>46986</td>\n",
       "      <td>Diesel</td>\n",
       "      <td>90</td>\n",
       "      <td>1</td>\n",
       "      <td>...</td>\n",
       "      <td>1</td>\n",
       "      <td>1</td>\n",
       "      <td>1</td>\n",
       "      <td>0</td>\n",
       "      <td>0</td>\n",
       "      <td>0</td>\n",
       "      <td>1</td>\n",
       "      <td>0</td>\n",
       "      <td>0</td>\n",
       "      <td>0</td>\n",
       "    </tr>\n",
       "    <tr>\n",
       "      <th>1</th>\n",
       "      <td>2</td>\n",
       "      <td>TOYOTA Corolla 2.0 D4D HATCHB TERRA 2/3-Doors</td>\n",
       "      <td>13750</td>\n",
       "      <td>23</td>\n",
       "      <td>10</td>\n",
       "      <td>2002</td>\n",
       "      <td>72937</td>\n",
       "      <td>Diesel</td>\n",
       "      <td>90</td>\n",
       "      <td>1</td>\n",
       "      <td>...</td>\n",
       "      <td>1</td>\n",
       "      <td>0</td>\n",
       "      <td>1</td>\n",
       "      <td>0</td>\n",
       "      <td>0</td>\n",
       "      <td>0</td>\n",
       "      <td>1</td>\n",
       "      <td>0</td>\n",
       "      <td>0</td>\n",
       "      <td>0</td>\n",
       "    </tr>\n",
       "    <tr>\n",
       "      <th>2</th>\n",
       "      <td>3</td>\n",
       "      <td>TOYOTA Corolla 2.0 D4D HATCHB TERRA 2/3-Doors</td>\n",
       "      <td>13950</td>\n",
       "      <td>24</td>\n",
       "      <td>9</td>\n",
       "      <td>2002</td>\n",
       "      <td>41711</td>\n",
       "      <td>Diesel</td>\n",
       "      <td>90</td>\n",
       "      <td>1</td>\n",
       "      <td>...</td>\n",
       "      <td>0</td>\n",
       "      <td>0</td>\n",
       "      <td>1</td>\n",
       "      <td>0</td>\n",
       "      <td>0</td>\n",
       "      <td>0</td>\n",
       "      <td>1</td>\n",
       "      <td>0</td>\n",
       "      <td>0</td>\n",
       "      <td>0</td>\n",
       "    </tr>\n",
       "    <tr>\n",
       "      <th>3</th>\n",
       "      <td>4</td>\n",
       "      <td>TOYOTA Corolla 2.0 D4D HATCHB TERRA 2/3-Doors</td>\n",
       "      <td>14950</td>\n",
       "      <td>26</td>\n",
       "      <td>7</td>\n",
       "      <td>2002</td>\n",
       "      <td>48000</td>\n",
       "      <td>Diesel</td>\n",
       "      <td>90</td>\n",
       "      <td>0</td>\n",
       "      <td>...</td>\n",
       "      <td>0</td>\n",
       "      <td>0</td>\n",
       "      <td>1</td>\n",
       "      <td>0</td>\n",
       "      <td>0</td>\n",
       "      <td>0</td>\n",
       "      <td>1</td>\n",
       "      <td>0</td>\n",
       "      <td>0</td>\n",
       "      <td>0</td>\n",
       "    </tr>\n",
       "    <tr>\n",
       "      <th>4</th>\n",
       "      <td>5</td>\n",
       "      <td>TOYOTA Corolla 2.0 D4D HATCHB SOL 2/3-Doors</td>\n",
       "      <td>13750</td>\n",
       "      <td>30</td>\n",
       "      <td>3</td>\n",
       "      <td>2002</td>\n",
       "      <td>38500</td>\n",
       "      <td>Diesel</td>\n",
       "      <td>90</td>\n",
       "      <td>0</td>\n",
       "      <td>...</td>\n",
       "      <td>1</td>\n",
       "      <td>1</td>\n",
       "      <td>1</td>\n",
       "      <td>0</td>\n",
       "      <td>1</td>\n",
       "      <td>0</td>\n",
       "      <td>1</td>\n",
       "      <td>0</td>\n",
       "      <td>0</td>\n",
       "      <td>0</td>\n",
       "    </tr>\n",
       "  </tbody>\n",
       "</table>\n",
       "<p>5 rows × 38 columns</p>\n",
       "</div>"
      ],
      "text/plain": [
       "   Id                                           Model  Price  Age_08_04  \\\n",
       "0   1   TOYOTA Corolla 2.0 D4D HATCHB TERRA 2/3-Doors  13500         23   \n",
       "1   2   TOYOTA Corolla 2.0 D4D HATCHB TERRA 2/3-Doors  13750         23   \n",
       "2   3   TOYOTA Corolla 2.0 D4D HATCHB TERRA 2/3-Doors  13950         24   \n",
       "3   4   TOYOTA Corolla 2.0 D4D HATCHB TERRA 2/3-Doors  14950         26   \n",
       "4   5     TOYOTA Corolla 2.0 D4D HATCHB SOL 2/3-Doors  13750         30   \n",
       "\n",
       "   Mfg_Month  Mfg_Year     KM Fuel_Type  HP  Met_Color  ... Central_Lock  \\\n",
       "0         10      2002  46986    Diesel  90          1  ...            1   \n",
       "1         10      2002  72937    Diesel  90          1  ...            1   \n",
       "2          9      2002  41711    Diesel  90          1  ...            0   \n",
       "3          7      2002  48000    Diesel  90          0  ...            0   \n",
       "4          3      2002  38500    Diesel  90          0  ...            1   \n",
       "\n",
       "   Powered_Windows  Power_Steering  Radio  Mistlamps  Sport_Model  \\\n",
       "0                1               1      0          0            0   \n",
       "1                0               1      0          0            0   \n",
       "2                0               1      0          0            0   \n",
       "3                0               1      0          0            0   \n",
       "4                1               1      0          1            0   \n",
       "\n",
       "   Backseat_Divider  Metallic_Rim  Radio_cassette  Tow_Bar  \n",
       "0                 1             0               0        0  \n",
       "1                 1             0               0        0  \n",
       "2                 1             0               0        0  \n",
       "3                 1             0               0        0  \n",
       "4                 1             0               0        0  \n",
       "\n",
       "[5 rows x 38 columns]"
      ]
     },
     "execution_count": 2,
     "metadata": {},
     "output_type": "execute_result"
    }
   ],
   "source": [
    "TC_data = pd.read_excel('ToyotaCorolla1.xlsx')\n",
    "TC_data.head()"
   ]
  },
  {
   "cell_type": "code",
   "execution_count": 3,
   "id": "93f1f8fa",
   "metadata": {},
   "outputs": [
    {
     "data": {
      "text/html": [
       "<div>\n",
       "<style scoped>\n",
       "    .dataframe tbody tr th:only-of-type {\n",
       "        vertical-align: middle;\n",
       "    }\n",
       "\n",
       "    .dataframe tbody tr th {\n",
       "        vertical-align: top;\n",
       "    }\n",
       "\n",
       "    .dataframe thead th {\n",
       "        text-align: right;\n",
       "    }\n",
       "</style>\n",
       "<table border=\"1\" class=\"dataframe\">\n",
       "  <thead>\n",
       "    <tr style=\"text-align: right;\">\n",
       "      <th></th>\n",
       "      <th>Price</th>\n",
       "      <th>Age_08_04</th>\n",
       "      <th>KM</th>\n",
       "      <th>HP</th>\n",
       "      <th>cc</th>\n",
       "      <th>Doors</th>\n",
       "      <th>Gears</th>\n",
       "      <th>Quarterly_Tax</th>\n",
       "      <th>Weight</th>\n",
       "    </tr>\n",
       "  </thead>\n",
       "  <tbody>\n",
       "    <tr>\n",
       "      <th>0</th>\n",
       "      <td>13500</td>\n",
       "      <td>23</td>\n",
       "      <td>46986</td>\n",
       "      <td>90</td>\n",
       "      <td>2000</td>\n",
       "      <td>3</td>\n",
       "      <td>5</td>\n",
       "      <td>210</td>\n",
       "      <td>1165</td>\n",
       "    </tr>\n",
       "    <tr>\n",
       "      <th>1</th>\n",
       "      <td>13750</td>\n",
       "      <td>23</td>\n",
       "      <td>72937</td>\n",
       "      <td>90</td>\n",
       "      <td>2000</td>\n",
       "      <td>3</td>\n",
       "      <td>5</td>\n",
       "      <td>210</td>\n",
       "      <td>1165</td>\n",
       "    </tr>\n",
       "    <tr>\n",
       "      <th>2</th>\n",
       "      <td>13950</td>\n",
       "      <td>24</td>\n",
       "      <td>41711</td>\n",
       "      <td>90</td>\n",
       "      <td>2000</td>\n",
       "      <td>3</td>\n",
       "      <td>5</td>\n",
       "      <td>210</td>\n",
       "      <td>1165</td>\n",
       "    </tr>\n",
       "    <tr>\n",
       "      <th>3</th>\n",
       "      <td>14950</td>\n",
       "      <td>26</td>\n",
       "      <td>48000</td>\n",
       "      <td>90</td>\n",
       "      <td>2000</td>\n",
       "      <td>3</td>\n",
       "      <td>5</td>\n",
       "      <td>210</td>\n",
       "      <td>1165</td>\n",
       "    </tr>\n",
       "    <tr>\n",
       "      <th>4</th>\n",
       "      <td>13750</td>\n",
       "      <td>30</td>\n",
       "      <td>38500</td>\n",
       "      <td>90</td>\n",
       "      <td>2000</td>\n",
       "      <td>3</td>\n",
       "      <td>5</td>\n",
       "      <td>210</td>\n",
       "      <td>1170</td>\n",
       "    </tr>\n",
       "    <tr>\n",
       "      <th>...</th>\n",
       "      <td>...</td>\n",
       "      <td>...</td>\n",
       "      <td>...</td>\n",
       "      <td>...</td>\n",
       "      <td>...</td>\n",
       "      <td>...</td>\n",
       "      <td>...</td>\n",
       "      <td>...</td>\n",
       "      <td>...</td>\n",
       "    </tr>\n",
       "    <tr>\n",
       "      <th>1431</th>\n",
       "      <td>7500</td>\n",
       "      <td>69</td>\n",
       "      <td>20544</td>\n",
       "      <td>86</td>\n",
       "      <td>1300</td>\n",
       "      <td>3</td>\n",
       "      <td>5</td>\n",
       "      <td>69</td>\n",
       "      <td>1025</td>\n",
       "    </tr>\n",
       "    <tr>\n",
       "      <th>1432</th>\n",
       "      <td>10845</td>\n",
       "      <td>72</td>\n",
       "      <td>19000</td>\n",
       "      <td>86</td>\n",
       "      <td>1300</td>\n",
       "      <td>3</td>\n",
       "      <td>5</td>\n",
       "      <td>69</td>\n",
       "      <td>1015</td>\n",
       "    </tr>\n",
       "    <tr>\n",
       "      <th>1433</th>\n",
       "      <td>8500</td>\n",
       "      <td>71</td>\n",
       "      <td>17016</td>\n",
       "      <td>86</td>\n",
       "      <td>1300</td>\n",
       "      <td>3</td>\n",
       "      <td>5</td>\n",
       "      <td>69</td>\n",
       "      <td>1015</td>\n",
       "    </tr>\n",
       "    <tr>\n",
       "      <th>1434</th>\n",
       "      <td>7250</td>\n",
       "      <td>70</td>\n",
       "      <td>16916</td>\n",
       "      <td>86</td>\n",
       "      <td>1300</td>\n",
       "      <td>3</td>\n",
       "      <td>5</td>\n",
       "      <td>69</td>\n",
       "      <td>1015</td>\n",
       "    </tr>\n",
       "    <tr>\n",
       "      <th>1435</th>\n",
       "      <td>6950</td>\n",
       "      <td>76</td>\n",
       "      <td>1</td>\n",
       "      <td>110</td>\n",
       "      <td>1600</td>\n",
       "      <td>5</td>\n",
       "      <td>5</td>\n",
       "      <td>19</td>\n",
       "      <td>1114</td>\n",
       "    </tr>\n",
       "  </tbody>\n",
       "</table>\n",
       "<p>1436 rows × 9 columns</p>\n",
       "</div>"
      ],
      "text/plain": [
       "      Price  Age_08_04     KM   HP    cc  Doors  Gears  Quarterly_Tax  Weight\n",
       "0     13500         23  46986   90  2000      3      5            210    1165\n",
       "1     13750         23  72937   90  2000      3      5            210    1165\n",
       "2     13950         24  41711   90  2000      3      5            210    1165\n",
       "3     14950         26  48000   90  2000      3      5            210    1165\n",
       "4     13750         30  38500   90  2000      3      5            210    1170\n",
       "...     ...        ...    ...  ...   ...    ...    ...            ...     ...\n",
       "1431   7500         69  20544   86  1300      3      5             69    1025\n",
       "1432  10845         72  19000   86  1300      3      5             69    1015\n",
       "1433   8500         71  17016   86  1300      3      5             69    1015\n",
       "1434   7250         70  16916   86  1300      3      5             69    1015\n",
       "1435   6950         76      1  110  1600      5      5             19    1114\n",
       "\n",
       "[1436 rows x 9 columns]"
      ]
     },
     "execution_count": 3,
     "metadata": {},
     "output_type": "execute_result"
    }
   ],
   "source": [
    "TC_data=TC_data[[\"Price\",\"Age_08_04\",\"KM\",\"HP\",\"cc\",\"Doors\",\"Gears\",\"Quarterly_Tax\",\"Weight\"]]\n",
    "\n",
    "TC_data"
   ]
  },
  {
   "cell_type": "markdown",
   "id": "af6abf7a",
   "metadata": {},
   "source": [
    "# Data Understanding"
   ]
  },
  {
   "cell_type": "markdown",
   "id": "5442a281",
   "metadata": {},
   "source": [
    "### Initial Analysis"
   ]
  },
  {
   "cell_type": "code",
   "execution_count": 4,
   "id": "245628bf",
   "metadata": {},
   "outputs": [
    {
     "data": {
      "text/plain": [
       "(1436, 9)"
      ]
     },
     "execution_count": 4,
     "metadata": {},
     "output_type": "execute_result"
    }
   ],
   "source": [
    "TC_data.shape"
   ]
  },
  {
   "cell_type": "code",
   "execution_count": 5,
   "id": "3e9f3d16",
   "metadata": {},
   "outputs": [
    {
     "data": {
      "text/plain": [
       "Price            0\n",
       "Age_08_04        0\n",
       "KM               0\n",
       "HP               0\n",
       "cc               0\n",
       "Doors            0\n",
       "Gears            0\n",
       "Quarterly_Tax    0\n",
       "Weight           0\n",
       "dtype: int64"
      ]
     },
     "execution_count": 5,
     "metadata": {},
     "output_type": "execute_result"
    }
   ],
   "source": [
    "TC_data.isna().sum()"
   ]
  },
  {
   "cell_type": "code",
   "execution_count": 6,
   "id": "810957da",
   "metadata": {},
   "outputs": [
    {
     "data": {
      "text/plain": [
       "Price            int64\n",
       "Age_08_04        int64\n",
       "KM               int64\n",
       "HP               int64\n",
       "cc               int64\n",
       "Doors            int64\n",
       "Gears            int64\n",
       "Quarterly_Tax    int64\n",
       "Weight           int64\n",
       "dtype: object"
      ]
     },
     "execution_count": 6,
     "metadata": {},
     "output_type": "execute_result"
    }
   ],
   "source": [
    "TC_data.dtypes"
   ]
  },
  {
   "cell_type": "markdown",
   "id": "df408ebd",
   "metadata": {},
   "source": [
    "## Assumptions Check"
   ]
  },
  {
   "cell_type": "markdown",
   "id": "7f781ddd",
   "metadata": {},
   "source": [
    "### Normality Test"
   ]
  },
  {
   "cell_type": "code",
   "execution_count": 7,
   "id": "33212e7f",
   "metadata": {},
   "outputs": [
    {
     "data": {
      "image/png": "[encoded data removed]",
      "text/plain": [
       "<Figure size 432x288 with 1 Axes>"
      ]
     },
     "metadata": {
      "needs_background": "light"
     },
     "output_type": "display_data"
    }
   ],
   "source": [
    "sns.distplot(a=TC_data['Age_08_04'], hist=False)\n",
    "plt.title('Age_08_04 Distribution')\n",
    "plt.show()"
   ]
  },
  {
   "cell_type": "code",
   "execution_count": 8,
   "id": "6c63fa80",
   "metadata": {},
   "outputs": [
    {
     "data": {
      "image/png": "[encoded data removed]",
      "text/plain": [
       "<Figure size 432x288 with 1 Axes>"
      ]
     },
     "metadata": {
      "needs_background": "light"
     },
     "output_type": "display_data"
    }
   ],
   "source": [
    "sns.distplot(a=TC_data['KM'], hist=False)\n",
    "plt.title('KM Distribution')\n",
    "plt.show()"
   ]
  },
  {
   "cell_type": "code",
   "execution_count": 9,
   "id": "931469b3",
   "metadata": {
    "scrolled": true
   },
   "outputs": [
    {
     "data": {
      "image/png": "[encoded data removed]",
      "text/plain": [
       "<Figure size 432x288 with 1 Axes>"
      ]
     },
     "metadata": {
      "needs_background": "light"
     },
     "output_type": "display_data"
    }
   ],
   "source": [
    "sns.distplot(a=TC_data['HP'], hist=False)\n",
    "plt.title('HP Distribution')\n",
    "plt.show()"
   ]
  },
  {
   "cell_type": "code",
   "execution_count": 10,
   "id": "ec39966a",
   "metadata": {},
   "outputs": [
    {
     "data": {
      "image/png": "[encoded data removed]",
      "text/plain": [
       "<Figure size 432x288 with 1 Axes>"
      ]
     },
     "metadata": {
      "needs_background": "light"
     },
     "output_type": "display_data"
    }
   ],
   "source": [
    "sns.distplot(a=TC_data['cc'], hist=False)\n",
    "plt.title('cc Distribution')\n",
    "plt.show()"
   ]
  },
  {
   "cell_type": "code",
   "execution_count": 11,
   "id": "1069937c",
   "metadata": {},
   "outputs": [
    {
     "data": {
      "image/png": "[encoded data removed]",
      "text/plain": [
       "<Figure size 432x288 with 1 Axes>"
      ]
     },
     "metadata": {
      "needs_background": "light"
     },
     "output_type": "display_data"
    }
   ],
   "source": [
    "sns.distplot(a=TC_data['Quarterly_Tax'], hist=False)\n",
    "plt.title('Quarterly_Tax Distribution')\n",
    "plt.show()"
   ]
  },
  {
   "cell_type": "code",
   "execution_count": 12,
   "id": "dbe84c84",
   "metadata": {},
   "outputs": [
    {
     "data": {
      "image/png": "[encoded data removed]",
      "text/plain": [
       "<Figure size 432x288 with 1 Axes>"
      ]
     },
     "metadata": {
      "needs_background": "light"
     },
     "output_type": "display_data"
    }
   ],
   "source": [
    "sns.distplot(a=TC_data['Weight'], hist=False)\n",
    "plt.title('Weight Distribution')\n",
    "plt.show()"
   ]
  },
  {
   "cell_type": "code",
   "execution_count": 13,
   "id": "6d99be54",
   "metadata": {},
   "outputs": [
    {
     "data": {
      "image/png": "[encoded data removed]",
      "text/plain": [
       "<Figure size 432x288 with 1 Axes>"
      ]
     },
     "metadata": {
      "needs_background": "light"
     },
     "output_type": "display_data"
    }
   ],
   "source": [
    "sns.distplot(a=TC_data['Price'], hist=False)\n",
    "plt.title('Price Distribution')\n",
    "plt.show()"
   ]
  },
  {
   "cell_type": "markdown",
   "id": "aea69cc3",
   "metadata": {},
   "source": [
    "### Linearity Test"
   ]
  },
  {
   "cell_type": "markdown",
   "id": "f8d25112",
   "metadata": {},
   "source": [
    "### Multicollinearity"
   ]
  },
  {
   "cell_type": "code",
   "execution_count": 14,
   "id": "915fc97e",
   "metadata": {},
   "outputs": [
    {
     "data": {
      "text/html": [
       "<div>\n",
       "<style scoped>\n",
       "    .dataframe tbody tr th:only-of-type {\n",
       "        vertical-align: middle;\n",
       "    }\n",
       "\n",
       "    .dataframe tbody tr th {\n",
       "        vertical-align: top;\n",
       "    }\n",
       "\n",
       "    .dataframe thead th {\n",
       "        text-align: right;\n",
       "    }\n",
       "</style>\n",
       "<table border=\"1\" class=\"dataframe\">\n",
       "  <thead>\n",
       "    <tr style=\"text-align: right;\">\n",
       "      <th></th>\n",
       "      <th>Price</th>\n",
       "      <th>Age_08_04</th>\n",
       "      <th>KM</th>\n",
       "      <th>HP</th>\n",
       "      <th>cc</th>\n",
       "      <th>Doors</th>\n",
       "      <th>Gears</th>\n",
       "      <th>Quarterly_Tax</th>\n",
       "      <th>Weight</th>\n",
       "    </tr>\n",
       "  </thead>\n",
       "  <tbody>\n",
       "    <tr>\n",
       "      <th>Price</th>\n",
       "      <td>1.00</td>\n",
       "      <td>-0.88</td>\n",
       "      <td>-0.57</td>\n",
       "      <td>0.31</td>\n",
       "      <td>0.13</td>\n",
       "      <td>0.19</td>\n",
       "      <td>0.06</td>\n",
       "      <td>0.22</td>\n",
       "      <td>0.58</td>\n",
       "    </tr>\n",
       "    <tr>\n",
       "      <th>Age_08_04</th>\n",
       "      <td>-0.88</td>\n",
       "      <td>1.00</td>\n",
       "      <td>0.51</td>\n",
       "      <td>-0.16</td>\n",
       "      <td>-0.10</td>\n",
       "      <td>-0.15</td>\n",
       "      <td>-0.01</td>\n",
       "      <td>-0.20</td>\n",
       "      <td>-0.47</td>\n",
       "    </tr>\n",
       "    <tr>\n",
       "      <th>KM</th>\n",
       "      <td>-0.57</td>\n",
       "      <td>0.51</td>\n",
       "      <td>1.00</td>\n",
       "      <td>-0.33</td>\n",
       "      <td>0.10</td>\n",
       "      <td>-0.04</td>\n",
       "      <td>0.02</td>\n",
       "      <td>0.28</td>\n",
       "      <td>-0.03</td>\n",
       "    </tr>\n",
       "    <tr>\n",
       "      <th>HP</th>\n",
       "      <td>0.31</td>\n",
       "      <td>-0.16</td>\n",
       "      <td>-0.33</td>\n",
       "      <td>1.00</td>\n",
       "      <td>0.04</td>\n",
       "      <td>0.09</td>\n",
       "      <td>0.21</td>\n",
       "      <td>-0.30</td>\n",
       "      <td>0.09</td>\n",
       "    </tr>\n",
       "    <tr>\n",
       "      <th>cc</th>\n",
       "      <td>0.13</td>\n",
       "      <td>-0.10</td>\n",
       "      <td>0.10</td>\n",
       "      <td>0.04</td>\n",
       "      <td>1.00</td>\n",
       "      <td>0.08</td>\n",
       "      <td>0.01</td>\n",
       "      <td>0.31</td>\n",
       "      <td>0.34</td>\n",
       "    </tr>\n",
       "    <tr>\n",
       "      <th>Doors</th>\n",
       "      <td>0.19</td>\n",
       "      <td>-0.15</td>\n",
       "      <td>-0.04</td>\n",
       "      <td>0.09</td>\n",
       "      <td>0.08</td>\n",
       "      <td>1.00</td>\n",
       "      <td>-0.16</td>\n",
       "      <td>0.11</td>\n",
       "      <td>0.30</td>\n",
       "    </tr>\n",
       "    <tr>\n",
       "      <th>Gears</th>\n",
       "      <td>0.06</td>\n",
       "      <td>-0.01</td>\n",
       "      <td>0.02</td>\n",
       "      <td>0.21</td>\n",
       "      <td>0.01</td>\n",
       "      <td>-0.16</td>\n",
       "      <td>1.00</td>\n",
       "      <td>-0.01</td>\n",
       "      <td>0.02</td>\n",
       "    </tr>\n",
       "    <tr>\n",
       "      <th>Quarterly_Tax</th>\n",
       "      <td>0.22</td>\n",
       "      <td>-0.20</td>\n",
       "      <td>0.28</td>\n",
       "      <td>-0.30</td>\n",
       "      <td>0.31</td>\n",
       "      <td>0.11</td>\n",
       "      <td>-0.01</td>\n",
       "      <td>1.00</td>\n",
       "      <td>0.63</td>\n",
       "    </tr>\n",
       "    <tr>\n",
       "      <th>Weight</th>\n",
       "      <td>0.58</td>\n",
       "      <td>-0.47</td>\n",
       "      <td>-0.03</td>\n",
       "      <td>0.09</td>\n",
       "      <td>0.34</td>\n",
       "      <td>0.30</td>\n",
       "      <td>0.02</td>\n",
       "      <td>0.63</td>\n",
       "      <td>1.00</td>\n",
       "    </tr>\n",
       "  </tbody>\n",
       "</table>\n",
       "</div>"
      ],
      "text/plain": [
       "               Price  Age_08_04    KM    HP    cc  Doors  Gears  \\\n",
       "Price           1.00      -0.88 -0.57  0.31  0.13   0.19   0.06   \n",
       "Age_08_04      -0.88       1.00  0.51 -0.16 -0.10  -0.15  -0.01   \n",
       "KM             -0.57       0.51  1.00 -0.33  0.10  -0.04   0.02   \n",
       "HP              0.31      -0.16 -0.33  1.00  0.04   0.09   0.21   \n",
       "cc              0.13      -0.10  0.10  0.04  1.00   0.08   0.01   \n",
       "Doors           0.19      -0.15 -0.04  0.09  0.08   1.00  -0.16   \n",
       "Gears           0.06      -0.01  0.02  0.21  0.01  -0.16   1.00   \n",
       "Quarterly_Tax   0.22      -0.20  0.28 -0.30  0.31   0.11  -0.01   \n",
       "Weight          0.58      -0.47 -0.03  0.09  0.34   0.30   0.02   \n",
       "\n",
       "               Quarterly_Tax  Weight  \n",
       "Price                   0.22    0.58  \n",
       "Age_08_04              -0.20   -0.47  \n",
       "KM                      0.28   -0.03  \n",
       "HP                     -0.30    0.09  \n",
       "cc                      0.31    0.34  \n",
       "Doors                   0.11    0.30  \n",
       "Gears                  -0.01    0.02  \n",
       "Quarterly_Tax           1.00    0.63  \n",
       "Weight                  0.63    1.00  "
      ]
     },
     "execution_count": 14,
     "metadata": {},
     "output_type": "execute_result"
    }
   ],
   "source": [
    "correlat=TC_data.corr().round(2)\n",
    "correlat"
   ]
  },
  {
   "cell_type": "code",
   "execution_count": 15,
   "id": "f03e1dfd",
   "metadata": {},
   "outputs": [
    {
     "data": {
      "image/png": "[encoded data removed]",
      "text/plain": [
       "<Figure size 1440x504 with 2 Axes>"
      ]
     },
     "metadata": {
      "needs_background": "light"
     },
     "output_type": "display_data"
    }
   ],
   "source": [
    "plt.figure(figsize=(20,7))\n",
    "sns.heatmap(data=correlat, annot=True)\n",
    "plt.show()"
   ]
  },
  {
   "cell_type": "markdown",
   "id": "98dc8b1c",
   "metadata": {},
   "source": [
    "# Model Building"
   ]
  },
  {
   "cell_type": "code",
   "execution_count": 16,
   "id": "aa32708c",
   "metadata": {},
   "outputs": [],
   "source": [
    "x=TC_data.drop(labels=['Price'], axis=1)\n",
    "y=TC_data[['Price']]"
   ]
  },
  {
   "cell_type": "code",
   "execution_count": 17,
   "id": "73f02966",
   "metadata": {},
   "outputs": [
    {
     "data": {
      "text/html": [
       "<div>\n",
       "<style scoped>\n",
       "    .dataframe tbody tr th:only-of-type {\n",
       "        vertical-align: middle;\n",
       "    }\n",
       "\n",
       "    .dataframe tbody tr th {\n",
       "        vertical-align: top;\n",
       "    }\n",
       "\n",
       "    .dataframe thead th {\n",
       "        text-align: right;\n",
       "    }\n",
       "</style>\n",
       "<table border=\"1\" class=\"dataframe\">\n",
       "  <thead>\n",
       "    <tr style=\"text-align: right;\">\n",
       "      <th></th>\n",
       "      <th>Age_08_04</th>\n",
       "      <th>KM</th>\n",
       "      <th>HP</th>\n",
       "      <th>cc</th>\n",
       "      <th>Doors</th>\n",
       "      <th>Gears</th>\n",
       "      <th>Quarterly_Tax</th>\n",
       "      <th>Weight</th>\n",
       "    </tr>\n",
       "  </thead>\n",
       "  <tbody>\n",
       "    <tr>\n",
       "      <th>0</th>\n",
       "      <td>23</td>\n",
       "      <td>46986</td>\n",
       "      <td>90</td>\n",
       "      <td>2000</td>\n",
       "      <td>3</td>\n",
       "      <td>5</td>\n",
       "      <td>210</td>\n",
       "      <td>1165</td>\n",
       "    </tr>\n",
       "    <tr>\n",
       "      <th>1</th>\n",
       "      <td>23</td>\n",
       "      <td>72937</td>\n",
       "      <td>90</td>\n",
       "      <td>2000</td>\n",
       "      <td>3</td>\n",
       "      <td>5</td>\n",
       "      <td>210</td>\n",
       "      <td>1165</td>\n",
       "    </tr>\n",
       "    <tr>\n",
       "      <th>2</th>\n",
       "      <td>24</td>\n",
       "      <td>41711</td>\n",
       "      <td>90</td>\n",
       "      <td>2000</td>\n",
       "      <td>3</td>\n",
       "      <td>5</td>\n",
       "      <td>210</td>\n",
       "      <td>1165</td>\n",
       "    </tr>\n",
       "    <tr>\n",
       "      <th>3</th>\n",
       "      <td>26</td>\n",
       "      <td>48000</td>\n",
       "      <td>90</td>\n",
       "      <td>2000</td>\n",
       "      <td>3</td>\n",
       "      <td>5</td>\n",
       "      <td>210</td>\n",
       "      <td>1165</td>\n",
       "    </tr>\n",
       "    <tr>\n",
       "      <th>4</th>\n",
       "      <td>30</td>\n",
       "      <td>38500</td>\n",
       "      <td>90</td>\n",
       "      <td>2000</td>\n",
       "      <td>3</td>\n",
       "      <td>5</td>\n",
       "      <td>210</td>\n",
       "      <td>1170</td>\n",
       "    </tr>\n",
       "  </tbody>\n",
       "</table>\n",
       "</div>"
      ],
      "text/plain": [
       "   Age_08_04     KM  HP    cc  Doors  Gears  Quarterly_Tax  Weight\n",
       "0         23  46986  90  2000      3      5            210    1165\n",
       "1         23  72937  90  2000      3      5            210    1165\n",
       "2         24  41711  90  2000      3      5            210    1165\n",
       "3         26  48000  90  2000      3      5            210    1165\n",
       "4         30  38500  90  2000      3      5            210    1170"
      ]
     },
     "execution_count": 17,
     "metadata": {},
     "output_type": "execute_result"
    }
   ],
   "source": [
    "x.head()"
   ]
  },
  {
   "cell_type": "code",
   "execution_count": 18,
   "id": "c29cbb7c",
   "metadata": {},
   "outputs": [
    {
     "data": {
      "text/html": [
       "<div>\n",
       "<style scoped>\n",
       "    .dataframe tbody tr th:only-of-type {\n",
       "        vertical-align: middle;\n",
       "    }\n",
       "\n",
       "    .dataframe tbody tr th {\n",
       "        vertical-align: top;\n",
       "    }\n",
       "\n",
       "    .dataframe thead th {\n",
       "        text-align: right;\n",
       "    }\n",
       "</style>\n",
       "<table border=\"1\" class=\"dataframe\">\n",
       "  <thead>\n",
       "    <tr style=\"text-align: right;\">\n",
       "      <th></th>\n",
       "      <th>Price</th>\n",
       "    </tr>\n",
       "  </thead>\n",
       "  <tbody>\n",
       "    <tr>\n",
       "      <th>0</th>\n",
       "      <td>13500</td>\n",
       "    </tr>\n",
       "    <tr>\n",
       "      <th>1</th>\n",
       "      <td>13750</td>\n",
       "    </tr>\n",
       "    <tr>\n",
       "      <th>2</th>\n",
       "      <td>13950</td>\n",
       "    </tr>\n",
       "    <tr>\n",
       "      <th>3</th>\n",
       "      <td>14950</td>\n",
       "    </tr>\n",
       "    <tr>\n",
       "      <th>4</th>\n",
       "      <td>13750</td>\n",
       "    </tr>\n",
       "  </tbody>\n",
       "</table>\n",
       "</div>"
      ],
      "text/plain": [
       "   Price\n",
       "0  13500\n",
       "1  13750\n",
       "2  13950\n",
       "3  14950\n",
       "4  13750"
      ]
     },
     "execution_count": 18,
     "metadata": {},
     "output_type": "execute_result"
    }
   ],
   "source": [
    "y.head()"
   ]
  },
  {
   "cell_type": "code",
   "execution_count": 19,
   "id": "1963a045",
   "metadata": {},
   "outputs": [
    {
     "data": {
      "text/plain": [
       "((1436, 8), (1436, 1))"
      ]
     },
     "execution_count": 19,
     "metadata": {},
     "output_type": "execute_result"
    }
   ],
   "source": [
    "x.shape,y.shape"
   ]
  },
  {
   "cell_type": "markdown",
   "id": "7314121d",
   "metadata": {},
   "source": [
    "# Model Training"
   ]
  },
  {
   "cell_type": "code",
   "execution_count": 20,
   "id": "6a389a50",
   "metadata": {},
   "outputs": [
    {
     "data": {
      "text/html": [
       "<table class=\"simpletable\">\n",
       "<caption>OLS Regression Results</caption>\n",
       "<tr>\n",
       "  <th>Dep. Variable:</th>          <td>Price</td>      <th>  R-squared:         </th> <td>   0.864</td> \n",
       "</tr>\n",
       "<tr>\n",
       "  <th>Model:</th>                   <td>OLS</td>       <th>  Adj. R-squared:    </th> <td>   0.863</td> \n",
       "</tr>\n",
       "<tr>\n",
       "  <th>Method:</th>             <td>Least Squares</td>  <th>  F-statistic:       </th> <td>   1131.</td> \n",
       "</tr>\n",
       "<tr>\n",
       "  <th>Date:</th>             <td>Tue, 22 Mar 2022</td> <th>  Prob (F-statistic):</th>  <td>  0.00</td>  \n",
       "</tr>\n",
       "<tr>\n",
       "  <th>Time:</th>                 <td>13:36:00</td>     <th>  Log-Likelihood:    </th> <td> -12376.</td> \n",
       "</tr>\n",
       "<tr>\n",
       "  <th>No. Observations:</th>      <td>  1436</td>      <th>  AIC:               </th> <td>2.477e+04</td>\n",
       "</tr>\n",
       "<tr>\n",
       "  <th>Df Residuals:</th>          <td>  1427</td>      <th>  BIC:               </th> <td>2.482e+04</td>\n",
       "</tr>\n",
       "<tr>\n",
       "  <th>Df Model:</th>              <td>     8</td>      <th>                     </th>     <td> </td>    \n",
       "</tr>\n",
       "<tr>\n",
       "  <th>Covariance Type:</th>      <td>nonrobust</td>    <th>                     </th>     <td> </td>    \n",
       "</tr>\n",
       "</table>\n",
       "<table class=\"simpletable\">\n",
       "<tr>\n",
       "        <td></td>           <th>coef</th>     <th>std err</th>      <th>t</th>      <th>P>|t|</th>  <th>[0.025</th>    <th>0.975]</th>  \n",
       "</tr>\n",
       "<tr>\n",
       "  <th>Intercept</th>     <td>-5573.1064</td> <td> 1411.390</td> <td>   -3.949</td> <td> 0.000</td> <td>-8341.728</td> <td>-2804.485</td>\n",
       "</tr>\n",
       "<tr>\n",
       "  <th>Age_08_04</th>     <td> -121.6584</td> <td>    2.616</td> <td>  -46.512</td> <td> 0.000</td> <td> -126.789</td> <td> -116.527</td>\n",
       "</tr>\n",
       "<tr>\n",
       "  <th>KM</th>            <td>   -0.0208</td> <td>    0.001</td> <td>  -16.622</td> <td> 0.000</td> <td>   -0.023</td> <td>   -0.018</td>\n",
       "</tr>\n",
       "<tr>\n",
       "  <th>HP</th>            <td>   31.6809</td> <td>    2.818</td> <td>   11.241</td> <td> 0.000</td> <td>   26.152</td> <td>   37.209</td>\n",
       "</tr>\n",
       "<tr>\n",
       "  <th>cc</th>            <td>   -0.1211</td> <td>    0.090</td> <td>   -1.344</td> <td> 0.179</td> <td>   -0.298</td> <td>    0.056</td>\n",
       "</tr>\n",
       "<tr>\n",
       "  <th>Doors</th>         <td>   -1.6166</td> <td>   40.006</td> <td>   -0.040</td> <td> 0.968</td> <td>  -80.093</td> <td>   76.859</td>\n",
       "</tr>\n",
       "<tr>\n",
       "  <th>Gears</th>         <td>  594.3199</td> <td>  197.055</td> <td>    3.016</td> <td> 0.003</td> <td>  207.771</td> <td>  980.869</td>\n",
       "</tr>\n",
       "<tr>\n",
       "  <th>Quarterly_Tax</th> <td>    3.9491</td> <td>    1.310</td> <td>    3.015</td> <td> 0.003</td> <td>    1.379</td> <td>    6.519</td>\n",
       "</tr>\n",
       "<tr>\n",
       "  <th>Weight</th>        <td>   16.9586</td> <td>    1.068</td> <td>   15.880</td> <td> 0.000</td> <td>   14.864</td> <td>   19.054</td>\n",
       "</tr>\n",
       "</table>\n",
       "<table class=\"simpletable\">\n",
       "<tr>\n",
       "  <th>Omnibus:</th>       <td>151.719</td> <th>  Durbin-Watson:     </th> <td>   1.543</td> \n",
       "</tr>\n",
       "<tr>\n",
       "  <th>Prob(Omnibus):</th> <td> 0.000</td>  <th>  Jarque-Bera (JB):  </th> <td>1011.853</td> \n",
       "</tr>\n",
       "<tr>\n",
       "  <th>Skew:</th>          <td>-0.219</td>  <th>  Prob(JB):          </th> <td>1.90e-220</td>\n",
       "</tr>\n",
       "<tr>\n",
       "  <th>Kurtosis:</th>      <td> 7.089</td>  <th>  Cond. No.          </th> <td>3.13e+06</td> \n",
       "</tr>\n",
       "</table><br/><br/>Notes:<br/>[1] Standard Errors assume that the covariance matrix of the errors is correctly specified.<br/>[2] The condition number is large, 3.13e+06. This might indicate that there are<br/>strong multicollinearity or other numerical problems."
      ],
      "text/plain": [
       "<class 'statsmodels.iolib.summary.Summary'>\n",
       "\"\"\"\n",
       "                            OLS Regression Results                            \n",
       "==============================================================================\n",
       "Dep. Variable:                  Price   R-squared:                       0.864\n",
       "Model:                            OLS   Adj. R-squared:                  0.863\n",
       "Method:                 Least Squares   F-statistic:                     1131.\n",
       "Date:                Tue, 22 Mar 2022   Prob (F-statistic):               0.00\n",
       "Time:                        13:36:00   Log-Likelihood:                -12376.\n",
       "No. Observations:                1436   AIC:                         2.477e+04\n",
       "Df Residuals:                    1427   BIC:                         2.482e+04\n",
       "Df Model:                           8                                         \n",
       "Covariance Type:            nonrobust                                         \n",
       "=================================================================================\n",
       "                    coef    std err          t      P>|t|      [0.025      0.975]\n",
       "---------------------------------------------------------------------------------\n",
       "Intercept     -5573.1064   1411.390     -3.949      0.000   -8341.728   -2804.485\n",
       "Age_08_04      -121.6584      2.616    -46.512      0.000    -126.789    -116.527\n",
       "KM               -0.0208      0.001    -16.622      0.000      -0.023      -0.018\n",
       "HP               31.6809      2.818     11.241      0.000      26.152      37.209\n",
       "cc               -0.1211      0.090     -1.344      0.179      -0.298       0.056\n",
       "Doors            -1.6166     40.006     -0.040      0.968     -80.093      76.859\n",
       "Gears           594.3199    197.055      3.016      0.003     207.771     980.869\n",
       "Quarterly_Tax     3.9491      1.310      3.015      0.003       1.379       6.519\n",
       "Weight           16.9586      1.068     15.880      0.000      14.864      19.054\n",
       "==============================================================================\n",
       "Omnibus:                      151.719   Durbin-Watson:                   1.543\n",
       "Prob(Omnibus):                  0.000   Jarque-Bera (JB):             1011.853\n",
       "Skew:                          -0.219   Prob(JB):                    1.90e-220\n",
       "Kurtosis:                       7.089   Cond. No.                     3.13e+06\n",
       "==============================================================================\n",
       "\n",
       "Notes:\n",
       "[1] Standard Errors assume that the covariance matrix of the errors is correctly specified.\n",
       "[2] The condition number is large, 3.13e+06. This might indicate that there are\n",
       "strong multicollinearity or other numerical problems.\n",
       "\"\"\""
      ]
     },
     "execution_count": 20,
     "metadata": {},
     "output_type": "execute_result"
    }
   ],
   "source": [
    "model = ols('Price~Age_08_04+KM+HP+cc+Doors+Gears+Quarterly_Tax+Weight',data=TC_data).fit()\n",
    "model.summary()"
   ]
  },
  {
   "cell_type": "code",
   "execution_count": 21,
   "id": "d41ee0a3",
   "metadata": {},
   "outputs": [],
   "source": [
    "rsq_cc=ols(\"cc~Age_08_04+KM+HP+Doors+Gears+Quarterly_Tax+Weight\",data=TC_data).fit().rsquared\n",
    "vif_cc=1/(1-rsq_cc)\n",
    "\n",
    "rsq_age=ols(\"Age_08_04~KM+HP+cc+Doors+Gears+Quarterly_Tax+Weight\",data=TC_data).fit().rsquared\n",
    "vif_age=1/(1-rsq_age)\n",
    "\n",
    "rsq_km=ols(\"KM~Age_08_04+HP+cc+Doors+Gears+Quarterly_Tax+Weight\",data=TC_data).fit().rsquared\n",
    "vif_km=1/(1-rsq_km)\n",
    "\n",
    "\n",
    "rsq_hp=ols(\"HP~Age_08_04+KM+cc+Doors+Gears+Quarterly_Tax+Weight\",data=TC_data).fit().rsquared\n",
    "vif_hp=1/(1-rsq_hp)\n",
    "\n",
    "\n",
    "rsq_doors=ols(\"Doors~Age_08_04+KM+HP+cc+Gears+Quarterly_Tax+Weight\",data=TC_data).fit().rsquared\n",
    "vif_doors=1/(1-rsq_doors)\n",
    "\n",
    "\n",
    "rsq_gear=ols(\"Gears~Age_08_04+KM+HP+cc+Doors+Quarterly_Tax+Weight\",data=TC_data).fit().rsquared\n",
    "vif_gear=1/(1-rsq_gear)\n",
    "\n",
    "\n",
    "rsq_quaterly=ols(\"Quarterly_Tax~Age_08_04+KM+HP+cc+Doors+Gears+Weight\",data=TC_data).fit().rsquared\n",
    "vif_quaterly=1/(1-rsq_quaterly)\n",
    "\n",
    "rsq_weight=ols(\"Weight~Age_08_04+KM+HP+cc+Doors+Gears+Quarterly_Tax\",data=TC_data).fit().rsquared\n",
    "vif_weight=1/(1-rsq_weight)"
   ]
  },
  {
   "cell_type": "code",
   "execution_count": 22,
   "id": "156f6fdf",
   "metadata": {},
   "outputs": [
    {
     "data": {
      "text/html": [
       "<div>\n",
       "<style scoped>\n",
       "    .dataframe tbody tr th:only-of-type {\n",
       "        vertical-align: middle;\n",
       "    }\n",
       "\n",
       "    .dataframe tbody tr th {\n",
       "        vertical-align: top;\n",
       "    }\n",
       "\n",
       "    .dataframe thead th {\n",
       "        text-align: right;\n",
       "    }\n",
       "</style>\n",
       "<table border=\"1\" class=\"dataframe\">\n",
       "  <thead>\n",
       "    <tr style=\"text-align: right;\">\n",
       "      <th></th>\n",
       "      <th>Variables</th>\n",
       "      <th>VIF</th>\n",
       "    </tr>\n",
       "  </thead>\n",
       "  <tbody>\n",
       "    <tr>\n",
       "      <th>0</th>\n",
       "      <td>CC</td>\n",
       "      <td>1.163894</td>\n",
       "    </tr>\n",
       "    <tr>\n",
       "      <th>1</th>\n",
       "      <td>Age_04_mnths</td>\n",
       "      <td>1.884620</td>\n",
       "    </tr>\n",
       "    <tr>\n",
       "      <th>2</th>\n",
       "      <td>KM</td>\n",
       "      <td>1.756905</td>\n",
       "    </tr>\n",
       "    <tr>\n",
       "      <th>3</th>\n",
       "      <td>HP</td>\n",
       "      <td>1.419422</td>\n",
       "    </tr>\n",
       "    <tr>\n",
       "      <th>4</th>\n",
       "      <td>Doors</td>\n",
       "      <td>1.156575</td>\n",
       "    </tr>\n",
       "    <tr>\n",
       "      <th>5</th>\n",
       "      <td>Gears</td>\n",
       "      <td>1.098723</td>\n",
       "    </tr>\n",
       "    <tr>\n",
       "      <th>6</th>\n",
       "      <td>Quarterly_Tax</td>\n",
       "      <td>2.311431</td>\n",
       "    </tr>\n",
       "    <tr>\n",
       "      <th>7</th>\n",
       "      <td>Weight</td>\n",
       "      <td>2.516420</td>\n",
       "    </tr>\n",
       "  </tbody>\n",
       "</table>\n",
       "</div>"
      ],
      "text/plain": [
       "       Variables       VIF\n",
       "0             CC  1.163894\n",
       "1   Age_04_mnths  1.884620\n",
       "2             KM  1.756905\n",
       "3             HP  1.419422\n",
       "4          Doors  1.156575\n",
       "5          Gears  1.098723\n",
       "6  Quarterly_Tax  2.311431\n",
       "7         Weight  2.516420"
      ]
     },
     "execution_count": 22,
     "metadata": {},
     "output_type": "execute_result"
    }
   ],
   "source": [
    "vif_df=({'Variables':['CC','Age_04_mnths','KM','HP','Doors','Gears','Quarterly_Tax','Weight'],\n",
    "     'VIF' :[vif_cc,vif_age,vif_km,vif_hp,vif_doors,vif_gear,vif_quaterly,vif_weight]})\n",
    "vif_frame=pd.DataFrame(vif_df)\n",
    "vif_frame"
   ]
  },
  {
   "cell_type": "markdown",
   "id": "b75fb3f4",
   "metadata": {},
   "source": [
    "### VIF of all the features is leass than 5 , and so we can say that No MultiCollinearity Problem exists"
   ]
  },
  {
   "cell_type": "markdown",
   "id": "10faf4a6",
   "metadata": {},
   "source": [
    "## Residual Analysis"
   ]
  },
  {
   "cell_type": "code",
   "execution_count": 23,
   "id": "7d465b10",
   "metadata": {},
   "outputs": [
    {
     "data": {
      "image/png": "[encoded data removed]",
      "text/plain": [
       "<Figure size 432x288 with 1 Axes>"
      ]
     },
     "metadata": {
      "needs_background": "light"
     },
     "output_type": "display_data"
    }
   ],
   "source": [
    "qqplot=smf.qqplot(model.resid,line='q')\n",
    "plt.title(\"QQ-plot of with all Varibales\")\n",
    "plt.show()"
   ]
  },
  {
   "cell_type": "code",
   "execution_count": 24,
   "id": "c74ccb46",
   "metadata": {},
   "outputs": [
    {
     "data": {
      "image/png": "[encoded data removed]",
      "text/plain": [
       "<Figure size 432x288 with 1 Axes>"
      ]
     },
     "metadata": {
      "needs_background": "light"
     },
     "output_type": "display_data"
    }
   ],
   "source": [
    "plt.scatter(model.fittedvalues,model.resid)\n",
    "\n",
    "plt.title('Residual Plot')\n",
    "plt.xlabel('Standardized Fitted values')\n",
    "plt.ylabel('Standardized residual values')\n",
    "plt.show()"
   ]
  },
  {
   "cell_type": "markdown",
   "id": "53aefd98",
   "metadata": {},
   "source": [
    "### Cooks Distance - Model Deletion Diagnostics"
   ]
  },
  {
   "cell_type": "code",
   "execution_count": 25,
   "id": "f1d7695d",
   "metadata": {},
   "outputs": [
    {
     "data": {
      "text/plain": [
       "(array([7.23682667e-03, 3.96793393e-03, 5.46476784e-03, ...,\n",
       "        8.44762355e-07, 6.97878368e-04, 1.08627724e-02]),\n",
       " array([1.        , 1.        , 1.        , ..., 1.        , 1.        ,\n",
       "        0.99999998]))"
      ]
     },
     "execution_count": 25,
     "metadata": {},
     "output_type": "execute_result"
    }
   ],
   "source": [
    "modelinf = model.get_influence()\n",
    "(c, _) = modelinf.cooks_distance\n",
    "(c, _)"
   ]
  },
  {
   "cell_type": "code",
   "execution_count": 26,
   "id": "9e9c6efb",
   "metadata": {},
   "outputs": [
    {
     "data": {
      "image/png": "[encoded data removed]",
      "text/plain": [
       "<Figure size 1440x504 with 1 Axes>"
      ]
     },
     "metadata": {
      "needs_background": "light"
     },
     "output_type": "display_data"
    }
   ],
   "source": [
    "fig = plt.subplots(figsize=(20, 7)) \n",
    "plt.stem(np.arange(len(TC_data)), np.round(c, 3)) \n",
    "plt.xlabel('Row index') \n",
    "plt.ylabel('Cooks Distance') \n",
    "plt.show()"
   ]
  },
  {
   "cell_type": "code",
   "execution_count": 27,
   "id": "8e44d645",
   "metadata": {},
   "outputs": [
    {
     "data": {
      "text/plain": [
       "(80, 79.52010624138055)"
      ]
     },
     "execution_count": 27,
     "metadata": {},
     "output_type": "execute_result"
    }
   ],
   "source": [
    "(np.argmax(c),np.max(c))"
   ]
  },
  {
   "cell_type": "code",
   "execution_count": 28,
   "id": "01099897",
   "metadata": {},
   "outputs": [],
   "source": [
    "TC_data1=TC_data.drop(index=[80],axis=0).reset_index()"
   ]
  },
  {
   "cell_type": "code",
   "execution_count": 29,
   "id": "a9a77762",
   "metadata": {},
   "outputs": [
    {
     "data": {
      "text/plain": [
       "(1435, 10)"
      ]
     },
     "execution_count": 29,
     "metadata": {},
     "output_type": "execute_result"
    }
   ],
   "source": [
    "TC_data1.shape"
   ]
  },
  {
   "cell_type": "code",
   "execution_count": 30,
   "id": "666e2072",
   "metadata": {},
   "outputs": [
    {
     "data": {
      "text/html": [
       "<table class=\"simpletable\">\n",
       "<caption>OLS Regression Results</caption>\n",
       "<tr>\n",
       "  <th>Dep. Variable:</th>          <td>Price</td>      <th>  R-squared:         </th> <td>   0.869</td> \n",
       "</tr>\n",
       "<tr>\n",
       "  <th>Model:</th>                   <td>OLS</td>       <th>  Adj. R-squared:    </th> <td>   0.869</td> \n",
       "</tr>\n",
       "<tr>\n",
       "  <th>Method:</th>             <td>Least Squares</td>  <th>  F-statistic:       </th> <td>   1186.</td> \n",
       "</tr>\n",
       "<tr>\n",
       "  <th>Date:</th>             <td>Tue, 22 Mar 2022</td> <th>  Prob (F-statistic):</th>  <td>  0.00</td>  \n",
       "</tr>\n",
       "<tr>\n",
       "  <th>Time:</th>                 <td>13:36:04</td>     <th>  Log-Likelihood:    </th> <td> -12335.</td> \n",
       "</tr>\n",
       "<tr>\n",
       "  <th>No. Observations:</th>      <td>  1435</td>      <th>  AIC:               </th> <td>2.469e+04</td>\n",
       "</tr>\n",
       "<tr>\n",
       "  <th>Df Residuals:</th>          <td>  1426</td>      <th>  BIC:               </th> <td>2.473e+04</td>\n",
       "</tr>\n",
       "<tr>\n",
       "  <th>Df Model:</th>              <td>     8</td>      <th>                     </th>     <td> </td>    \n",
       "</tr>\n",
       "<tr>\n",
       "  <th>Covariance Type:</th>      <td>nonrobust</td>    <th>                     </th>     <td> </td>    \n",
       "</tr>\n",
       "</table>\n",
       "<table class=\"simpletable\">\n",
       "<tr>\n",
       "        <td></td>           <th>coef</th>     <th>std err</th>      <th>t</th>      <th>P>|t|</th>  <th>[0.025</th>    <th>0.975]</th>  \n",
       "</tr>\n",
       "<tr>\n",
       "  <th>Intercept</th>     <td>-6284.7401</td> <td> 1382.748</td> <td>   -4.545</td> <td> 0.000</td> <td>-8997.180</td> <td>-3572.301</td>\n",
       "</tr>\n",
       "<tr>\n",
       "  <th>Age_08_04</th>     <td> -120.4550</td> <td>    2.562</td> <td>  -47.021</td> <td> 0.000</td> <td> -125.480</td> <td> -115.430</td>\n",
       "</tr>\n",
       "<tr>\n",
       "  <th>KM</th>            <td>   -0.0178</td> <td>    0.001</td> <td>  -13.973</td> <td> 0.000</td> <td>   -0.020</td> <td>   -0.015</td>\n",
       "</tr>\n",
       "<tr>\n",
       "  <th>HP</th>            <td>   39.3463</td> <td>    2.911</td> <td>   13.516</td> <td> 0.000</td> <td>   33.636</td> <td>   45.057</td>\n",
       "</tr>\n",
       "<tr>\n",
       "  <th>cc</th>            <td>   -2.5242</td> <td>    0.307</td> <td>   -8.216</td> <td> 0.000</td> <td>   -3.127</td> <td>   -1.922</td>\n",
       "</tr>\n",
       "<tr>\n",
       "  <th>Doors</th>         <td>  -27.2285</td> <td>   39.241</td> <td>   -0.694</td> <td> 0.488</td> <td> -104.206</td> <td>   49.749</td>\n",
       "</tr>\n",
       "<tr>\n",
       "  <th>Gears</th>         <td>  523.9416</td> <td>  192.865</td> <td>    2.717</td> <td> 0.007</td> <td>  145.612</td> <td>  902.271</td>\n",
       "</tr>\n",
       "<tr>\n",
       "  <th>Quarterly_Tax</th> <td>    9.0440</td> <td>    1.425</td> <td>    6.348</td> <td> 0.000</td> <td>    6.249</td> <td>   11.839</td>\n",
       "</tr>\n",
       "<tr>\n",
       "  <th>Weight</th>        <td>   20.1655</td> <td>    1.116</td> <td>   18.076</td> <td> 0.000</td> <td>   17.977</td> <td>   22.354</td>\n",
       "</tr>\n",
       "</table>\n",
       "<table class=\"simpletable\">\n",
       "<tr>\n",
       "  <th>Omnibus:</th>       <td>246.945</td> <th>  Durbin-Watson:     </th> <td>   1.595</td>\n",
       "</tr>\n",
       "<tr>\n",
       "  <th>Prob(Omnibus):</th> <td> 0.000</td>  <th>  Jarque-Bera (JB):  </th> <td>2706.374</td>\n",
       "</tr>\n",
       "<tr>\n",
       "  <th>Skew:</th>          <td>-0.443</td>  <th>  Prob(JB):          </th> <td>    0.00</td>\n",
       "</tr>\n",
       "<tr>\n",
       "  <th>Kurtosis:</th>      <td> 9.669</td>  <th>  Cond. No.          </th> <td>3.13e+06</td>\n",
       "</tr>\n",
       "</table><br/><br/>Notes:<br/>[1] Standard Errors assume that the covariance matrix of the errors is correctly specified.<br/>[2] The condition number is large, 3.13e+06. This might indicate that there are<br/>strong multicollinearity or other numerical problems."
      ],
      "text/plain": [
       "<class 'statsmodels.iolib.summary.Summary'>\n",
       "\"\"\"\n",
       "                            OLS Regression Results                            \n",
       "==============================================================================\n",
       "Dep. Variable:                  Price   R-squared:                       0.869\n",
       "Model:                            OLS   Adj. R-squared:                  0.869\n",
       "Method:                 Least Squares   F-statistic:                     1186.\n",
       "Date:                Tue, 22 Mar 2022   Prob (F-statistic):               0.00\n",
       "Time:                        13:36:04   Log-Likelihood:                -12335.\n",
       "No. Observations:                1435   AIC:                         2.469e+04\n",
       "Df Residuals:                    1426   BIC:                         2.473e+04\n",
       "Df Model:                           8                                         \n",
       "Covariance Type:            nonrobust                                         \n",
       "=================================================================================\n",
       "                    coef    std err          t      P>|t|      [0.025      0.975]\n",
       "---------------------------------------------------------------------------------\n",
       "Intercept     -6284.7401   1382.748     -4.545      0.000   -8997.180   -3572.301\n",
       "Age_08_04      -120.4550      2.562    -47.021      0.000    -125.480    -115.430\n",
       "KM               -0.0178      0.001    -13.973      0.000      -0.020      -0.015\n",
       "HP               39.3463      2.911     13.516      0.000      33.636      45.057\n",
       "cc               -2.5242      0.307     -8.216      0.000      -3.127      -1.922\n",
       "Doors           -27.2285     39.241     -0.694      0.488    -104.206      49.749\n",
       "Gears           523.9416    192.865      2.717      0.007     145.612     902.271\n",
       "Quarterly_Tax     9.0440      1.425      6.348      0.000       6.249      11.839\n",
       "Weight           20.1655      1.116     18.076      0.000      17.977      22.354\n",
       "==============================================================================\n",
       "Omnibus:                      246.945   Durbin-Watson:                   1.595\n",
       "Prob(Omnibus):                  0.000   Jarque-Bera (JB):             2706.374\n",
       "Skew:                          -0.443   Prob(JB):                         0.00\n",
       "Kurtosis:                       9.669   Cond. No.                     3.13e+06\n",
       "==============================================================================\n",
       "\n",
       "Notes:\n",
       "[1] Standard Errors assume that the covariance matrix of the errors is correctly specified.\n",
       "[2] The condition number is large, 3.13e+06. This might indicate that there are\n",
       "strong multicollinearity or other numerical problems.\n",
       "\"\"\""
      ]
     },
     "execution_count": 30,
     "metadata": {},
     "output_type": "execute_result"
    }
   ],
   "source": [
    "model1 = ols('Price~Age_08_04+KM+HP+cc+Doors+Gears+Quarterly_Tax+Weight',data=TC_data1).fit()\n",
    "model1.summary()"
   ]
  },
  {
   "cell_type": "code",
   "execution_count": 31,
   "id": "09eb52c9",
   "metadata": {},
   "outputs": [
    {
     "data": {
      "text/plain": [
       "(array([6.76188181e-03, 3.63236662e-03, 4.92319660e-03, ...,\n",
       "        3.63997681e-06, 9.09665729e-04, 9.71186915e-03]),\n",
       " array([1.        , 1.        , 1.        , ..., 1.        , 1.        ,\n",
       "        0.99999999]))"
      ]
     },
     "execution_count": 31,
     "metadata": {},
     "output_type": "execute_result"
    }
   ],
   "source": [
    "modelinf = model1.get_influence()\n",
    "(c, _) = modelinf.cooks_distance\n",
    "(c, _)"
   ]
  },
  {
   "cell_type": "code",
   "execution_count": 32,
   "id": "004afee6",
   "metadata": {},
   "outputs": [
    {
     "data": {
      "image/png": "[encoded data removed]",
      "text/plain": [
       "<Figure size 1440x504 with 1 Axes>"
      ]
     },
     "metadata": {
      "needs_background": "light"
     },
     "output_type": "display_data"
    }
   ],
   "source": [
    "fig = plt.subplots(figsize=(20, 7)) \n",
    "plt.stem(np.arange(len(TC_data1)), np.round(c, 3)) \n",
    "plt.xlabel('Row index') \n",
    "plt.ylabel('Cooks Distance') \n",
    "plt.show()"
   ]
  },
  {
   "cell_type": "code",
   "execution_count": 33,
   "id": "0d6137ef",
   "metadata": {},
   "outputs": [
    {
     "data": {
      "text/plain": [
       "(220, 2.2244611713001508)"
      ]
     },
     "execution_count": 33,
     "metadata": {},
     "output_type": "execute_result"
    }
   ],
   "source": [
    "(np.argmax(c),np.max(c))"
   ]
  },
  {
   "cell_type": "code",
   "execution_count": 34,
   "id": "e10faad2",
   "metadata": {},
   "outputs": [],
   "source": [
    "TC_data1=TC_data1.drop(index=[220],axis=0).reset_index()"
   ]
  },
  {
   "cell_type": "code",
   "execution_count": 35,
   "id": "cb5c7748",
   "metadata": {},
   "outputs": [
    {
     "data": {
      "text/plain": [
       "(1434, 11)"
      ]
     },
     "execution_count": 35,
     "metadata": {},
     "output_type": "execute_result"
    }
   ],
   "source": [
    "TC_data1.shape"
   ]
  },
  {
   "cell_type": "code",
   "execution_count": 36,
   "id": "2d0d790f",
   "metadata": {},
   "outputs": [
    {
     "data": {
      "text/html": [
       "<table class=\"simpletable\">\n",
       "<caption>OLS Regression Results</caption>\n",
       "<tr>\n",
       "  <th>Dep. Variable:</th>          <td>Price</td>      <th>  R-squared:         </th> <td>   0.878</td> \n",
       "</tr>\n",
       "<tr>\n",
       "  <th>Model:</th>                   <td>OLS</td>       <th>  Adj. R-squared:    </th> <td>   0.877</td> \n",
       "</tr>\n",
       "<tr>\n",
       "  <th>Method:</th>             <td>Least Squares</td>  <th>  F-statistic:       </th> <td>   1280.</td> \n",
       "</tr>\n",
       "<tr>\n",
       "  <th>Date:</th>             <td>Tue, 22 Mar 2022</td> <th>  Prob (F-statistic):</th>  <td>  0.00</td>  \n",
       "</tr>\n",
       "<tr>\n",
       "  <th>Time:</th>                 <td>13:36:06</td>     <th>  Log-Likelihood:    </th> <td> -12278.</td> \n",
       "</tr>\n",
       "<tr>\n",
       "  <th>No. Observations:</th>      <td>  1434</td>      <th>  AIC:               </th> <td>2.457e+04</td>\n",
       "</tr>\n",
       "<tr>\n",
       "  <th>Df Residuals:</th>          <td>  1425</td>      <th>  BIC:               </th> <td>2.462e+04</td>\n",
       "</tr>\n",
       "<tr>\n",
       "  <th>Df Model:</th>              <td>     8</td>      <th>                     </th>     <td> </td>    \n",
       "</tr>\n",
       "<tr>\n",
       "  <th>Covariance Type:</th>      <td>nonrobust</td>    <th>                     </th>     <td> </td>    \n",
       "</tr>\n",
       "</table>\n",
       "<table class=\"simpletable\">\n",
       "<tr>\n",
       "        <td></td>           <th>coef</th>     <th>std err</th>      <th>t</th>      <th>P>|t|</th>  <th>[0.025</th>    <th>0.975]</th>  \n",
       "</tr>\n",
       "<tr>\n",
       "  <th>Intercept</th>     <td>-1.025e+04</td> <td> 1395.733</td> <td>   -7.346</td> <td> 0.000</td> <td> -1.3e+04</td> <td>-7514.512</td>\n",
       "</tr>\n",
       "<tr>\n",
       "  <th>Age_08_04</th>     <td> -116.5783</td> <td>    2.508</td> <td>  -46.475</td> <td> 0.000</td> <td> -121.499</td> <td> -111.658</td>\n",
       "</tr>\n",
       "<tr>\n",
       "  <th>KM</th>            <td>   -0.0173</td> <td>    0.001</td> <td>  -13.966</td> <td> 0.000</td> <td>   -0.020</td> <td>   -0.015</td>\n",
       "</tr>\n",
       "<tr>\n",
       "  <th>HP</th>            <td>   39.2932</td> <td>    2.816</td> <td>   13.953</td> <td> 0.000</td> <td>   33.769</td> <td>   44.817</td>\n",
       "</tr>\n",
       "<tr>\n",
       "  <th>cc</th>            <td>   -3.2057</td> <td>    0.305</td> <td>  -10.511</td> <td> 0.000</td> <td>   -3.804</td> <td>   -2.607</td>\n",
       "</tr>\n",
       "<tr>\n",
       "  <th>Doors</th>         <td>  -65.3718</td> <td>   38.152</td> <td>   -1.713</td> <td> 0.087</td> <td> -140.212</td> <td>    9.468</td>\n",
       "</tr>\n",
       "<tr>\n",
       "  <th>Gears</th>         <td>  485.0462</td> <td>  186.602</td> <td>    2.599</td> <td> 0.009</td> <td>  119.001</td> <td>  851.091</td>\n",
       "</tr>\n",
       "<tr>\n",
       "  <th>Quarterly_Tax</th> <td>    7.9664</td> <td>    1.382</td> <td>    5.762</td> <td> 0.000</td> <td>    5.254</td> <td>   10.678</td>\n",
       "</tr>\n",
       "<tr>\n",
       "  <th>Weight</th>        <td>   25.0494</td> <td>    1.186</td> <td>   21.129</td> <td> 0.000</td> <td>   22.724</td> <td>   27.375</td>\n",
       "</tr>\n",
       "</table>\n",
       "<table class=\"simpletable\">\n",
       "<tr>\n",
       "  <th>Omnibus:</th>       <td>197.976</td> <th>  Durbin-Watson:     </th> <td>   1.638</td>\n",
       "</tr>\n",
       "<tr>\n",
       "  <th>Prob(Omnibus):</th> <td> 0.000</td>  <th>  Jarque-Bera (JB):  </th> <td>1765.342</td>\n",
       "</tr>\n",
       "<tr>\n",
       "  <th>Skew:</th>          <td>-0.317</td>  <th>  Prob(JB):          </th> <td>    0.00</td>\n",
       "</tr>\n",
       "<tr>\n",
       "  <th>Kurtosis:</th>      <td> 8.399</td>  <th>  Cond. No.          </th> <td>3.27e+06</td>\n",
       "</tr>\n",
       "</table><br/><br/>Notes:<br/>[1] Standard Errors assume that the covariance matrix of the errors is correctly specified.<br/>[2] The condition number is large, 3.27e+06. This might indicate that there are<br/>strong multicollinearity or other numerical problems."
      ],
      "text/plain": [
       "<class 'statsmodels.iolib.summary.Summary'>\n",
       "\"\"\"\n",
       "                            OLS Regression Results                            \n",
       "==============================================================================\n",
       "Dep. Variable:                  Price   R-squared:                       0.878\n",
       "Model:                            OLS   Adj. R-squared:                  0.877\n",
       "Method:                 Least Squares   F-statistic:                     1280.\n",
       "Date:                Tue, 22 Mar 2022   Prob (F-statistic):               0.00\n",
       "Time:                        13:36:06   Log-Likelihood:                -12278.\n",
       "No. Observations:                1434   AIC:                         2.457e+04\n",
       "Df Residuals:                    1425   BIC:                         2.462e+04\n",
       "Df Model:                           8                                         \n",
       "Covariance Type:            nonrobust                                         \n",
       "=================================================================================\n",
       "                    coef    std err          t      P>|t|      [0.025      0.975]\n",
       "---------------------------------------------------------------------------------\n",
       "Intercept     -1.025e+04   1395.733     -7.346      0.000    -1.3e+04   -7514.512\n",
       "Age_08_04      -116.5783      2.508    -46.475      0.000    -121.499    -111.658\n",
       "KM               -0.0173      0.001    -13.966      0.000      -0.020      -0.015\n",
       "HP               39.2932      2.816     13.953      0.000      33.769      44.817\n",
       "cc               -3.2057      0.305    -10.511      0.000      -3.804      -2.607\n",
       "Doors           -65.3718     38.152     -1.713      0.087    -140.212       9.468\n",
       "Gears           485.0462    186.602      2.599      0.009     119.001     851.091\n",
       "Quarterly_Tax     7.9664      1.382      5.762      0.000       5.254      10.678\n",
       "Weight           25.0494      1.186     21.129      0.000      22.724      27.375\n",
       "==============================================================================\n",
       "Omnibus:                      197.976   Durbin-Watson:                   1.638\n",
       "Prob(Omnibus):                  0.000   Jarque-Bera (JB):             1765.342\n",
       "Skew:                          -0.317   Prob(JB):                         0.00\n",
       "Kurtosis:                       8.399   Cond. No.                     3.27e+06\n",
       "==============================================================================\n",
       "\n",
       "Notes:\n",
       "[1] Standard Errors assume that the covariance matrix of the errors is correctly specified.\n",
       "[2] The condition number is large, 3.27e+06. This might indicate that there are\n",
       "strong multicollinearity or other numerical problems.\n",
       "\"\"\""
      ]
     },
     "execution_count": 36,
     "metadata": {},
     "output_type": "execute_result"
    }
   ],
   "source": [
    "model2 = ols('Price~Age_08_04+KM+HP+cc+Doors+Gears+Quarterly_Tax+Weight',data=TC_data1).fit()\n",
    "model2.summary()"
   ]
  },
  {
   "cell_type": "code",
   "execution_count": 37,
   "id": "b143092a",
   "metadata": {},
   "outputs": [
    {
     "data": {
      "text/plain": [
       "(array([6.93766187e-03, 3.72233988e-03, 5.01297081e-03, ...,\n",
       "        3.95827276e-06, 9.68027939e-04, 1.26386941e-02]),\n",
       " array([1.        , 1.        , 1.        , ..., 1.        , 1.        ,\n",
       "        0.99999995]))"
      ]
     },
     "execution_count": 37,
     "metadata": {},
     "output_type": "execute_result"
    }
   ],
   "source": [
    "modelinf= model2.get_influence()\n",
    "(c, _) = modelinf.cooks_distance\n",
    "(c, _)"
   ]
  },
  {
   "cell_type": "code",
   "execution_count": 38,
   "id": "32c29265",
   "metadata": {},
   "outputs": [
    {
     "data": {
      "image/png": "[encoded data removed]",
      "text/plain": [
       "<Figure size 1440x504 with 1 Axes>"
      ]
     },
     "metadata": {
      "needs_background": "light"
     },
     "output_type": "display_data"
    }
   ],
   "source": [
    "fig = plt.subplots(figsize=(20, 7)) \n",
    "plt.stem(np.arange(len(TC_data1)), np.round(c, 3)) \n",
    "plt.xlabel('Row index') \n",
    "plt.ylabel('Cooks Distance') \n",
    "plt.show()"
   ]
  },
  {
   "cell_type": "code",
   "execution_count": 39,
   "id": "42de9935",
   "metadata": {},
   "outputs": [
    {
     "data": {
      "text/plain": [
       "(958, 2.5312566930233107)"
      ]
     },
     "execution_count": 39,
     "metadata": {},
     "output_type": "execute_result"
    }
   ],
   "source": [
    "(np.argmax(c),np.max(c))"
   ]
  },
  {
   "cell_type": "code",
   "execution_count": 40,
   "id": "edcf4286",
   "metadata": {},
   "outputs": [],
   "source": [
    "TC_data2=TC_data.drop(index=[80,221,960],axis=0).reset_index()"
   ]
  },
  {
   "cell_type": "code",
   "execution_count": 41,
   "id": "f0f2d3c3",
   "metadata": {},
   "outputs": [
    {
     "data": {
      "text/plain": [
       "(1433, 10)"
      ]
     },
     "execution_count": 41,
     "metadata": {},
     "output_type": "execute_result"
    }
   ],
   "source": [
    "TC_data2.shape"
   ]
  },
  {
   "cell_type": "code",
   "execution_count": 42,
   "id": "02108b28",
   "metadata": {},
   "outputs": [
    {
     "data": {
      "text/html": [
       "<table class=\"simpletable\">\n",
       "<caption>OLS Regression Results</caption>\n",
       "<tr>\n",
       "  <th>Dep. Variable:</th>          <td>Price</td>      <th>  R-squared:         </th> <td>   0.885</td> \n",
       "</tr>\n",
       "<tr>\n",
       "  <th>Model:</th>                   <td>OLS</td>       <th>  Adj. R-squared:    </th> <td>   0.885</td> \n",
       "</tr>\n",
       "<tr>\n",
       "  <th>Method:</th>             <td>Least Squares</td>  <th>  F-statistic:       </th> <td>   1372.</td> \n",
       "</tr>\n",
       "<tr>\n",
       "  <th>Date:</th>             <td>Tue, 22 Mar 2022</td> <th>  Prob (F-statistic):</th>  <td>  0.00</td>  \n",
       "</tr>\n",
       "<tr>\n",
       "  <th>Time:</th>                 <td>13:36:07</td>     <th>  Log-Likelihood:    </th> <td> -12226.</td> \n",
       "</tr>\n",
       "<tr>\n",
       "  <th>No. Observations:</th>      <td>  1433</td>      <th>  AIC:               </th> <td>2.447e+04</td>\n",
       "</tr>\n",
       "<tr>\n",
       "  <th>Df Residuals:</th>          <td>  1424</td>      <th>  BIC:               </th> <td>2.452e+04</td>\n",
       "</tr>\n",
       "<tr>\n",
       "  <th>Df Model:</th>              <td>     8</td>      <th>                     </th>     <td> </td>    \n",
       "</tr>\n",
       "<tr>\n",
       "  <th>Covariance Type:</th>      <td>nonrobust</td>    <th>                     </th>     <td> </td>    \n",
       "</tr>\n",
       "</table>\n",
       "<table class=\"simpletable\">\n",
       "<tr>\n",
       "        <td></td>           <th>coef</th>     <th>std err</th>      <th>t</th>      <th>P>|t|</th>  <th>[0.025</th>    <th>0.975]</th>  \n",
       "</tr>\n",
       "<tr>\n",
       "  <th>Intercept</th>     <td>-1.474e+04</td> <td> 1432.942</td> <td>  -10.289</td> <td> 0.000</td> <td>-1.76e+04</td> <td>-1.19e+04</td>\n",
       "</tr>\n",
       "<tr>\n",
       "  <th>Age_08_04</th>     <td> -112.0180</td> <td>    2.479</td> <td>  -45.185</td> <td> 0.000</td> <td> -116.881</td> <td> -107.155</td>\n",
       "</tr>\n",
       "<tr>\n",
       "  <th>KM</th>            <td>   -0.0170</td> <td>    0.001</td> <td>  -14.160</td> <td> 0.000</td> <td>   -0.019</td> <td>   -0.015</td>\n",
       "</tr>\n",
       "<tr>\n",
       "  <th>HP</th>            <td>   36.6084</td> <td>    2.745</td> <td>   13.334</td> <td> 0.000</td> <td>   31.223</td> <td>   41.994</td>\n",
       "</tr>\n",
       "<tr>\n",
       "  <th>cc</th>            <td>   -3.7954</td> <td>    0.302</td> <td>  -12.562</td> <td> 0.000</td> <td>   -4.388</td> <td>   -3.203</td>\n",
       "</tr>\n",
       "<tr>\n",
       "  <th>Doors</th>         <td> -122.5437</td> <td>   37.480</td> <td>   -3.270</td> <td> 0.001</td> <td> -196.067</td> <td>  -49.021</td>\n",
       "</tr>\n",
       "<tr>\n",
       "  <th>Gears</th>         <td>  464.9839</td> <td>  180.976</td> <td>    2.569</td> <td> 0.010</td> <td>  109.975</td> <td>  819.993</td>\n",
       "</tr>\n",
       "<tr>\n",
       "  <th>Quarterly_Tax</th> <td>    5.2134</td> <td>    1.371</td> <td>    3.802</td> <td> 0.000</td> <td>    2.523</td> <td>    7.904</td>\n",
       "</tr>\n",
       "<tr>\n",
       "  <th>Weight</th>        <td>   30.6398</td> <td>    1.290</td> <td>   23.748</td> <td> 0.000</td> <td>   28.109</td> <td>   33.171</td>\n",
       "</tr>\n",
       "</table>\n",
       "<table class=\"simpletable\">\n",
       "<tr>\n",
       "  <th>Omnibus:</th>       <td>121.821</td> <th>  Durbin-Watson:     </th> <td>   1.701</td> \n",
       "</tr>\n",
       "<tr>\n",
       "  <th>Prob(Omnibus):</th> <td> 0.000</td>  <th>  Jarque-Bera (JB):  </th> <td> 704.567</td> \n",
       "</tr>\n",
       "<tr>\n",
       "  <th>Skew:</th>          <td>-0.082</td>  <th>  Prob(JB):          </th> <td>1.01e-153</td>\n",
       "</tr>\n",
       "<tr>\n",
       "  <th>Kurtosis:</th>      <td> 6.431</td>  <th>  Cond. No.          </th> <td>3.45e+06</td> \n",
       "</tr>\n",
       "</table><br/><br/>Notes:<br/>[1] Standard Errors assume that the covariance matrix of the errors is correctly specified.<br/>[2] The condition number is large, 3.45e+06. This might indicate that there are<br/>strong multicollinearity or other numerical problems."
      ],
      "text/plain": [
       "<class 'statsmodels.iolib.summary.Summary'>\n",
       "\"\"\"\n",
       "                            OLS Regression Results                            \n",
       "==============================================================================\n",
       "Dep. Variable:                  Price   R-squared:                       0.885\n",
       "Model:                            OLS   Adj. R-squared:                  0.885\n",
       "Method:                 Least Squares   F-statistic:                     1372.\n",
       "Date:                Tue, 22 Mar 2022   Prob (F-statistic):               0.00\n",
       "Time:                        13:36:07   Log-Likelihood:                -12226.\n",
       "No. Observations:                1433   AIC:                         2.447e+04\n",
       "Df Residuals:                    1424   BIC:                         2.452e+04\n",
       "Df Model:                           8                                         \n",
       "Covariance Type:            nonrobust                                         \n",
       "=================================================================================\n",
       "                    coef    std err          t      P>|t|      [0.025      0.975]\n",
       "---------------------------------------------------------------------------------\n",
       "Intercept     -1.474e+04   1432.942    -10.289      0.000   -1.76e+04   -1.19e+04\n",
       "Age_08_04      -112.0180      2.479    -45.185      0.000    -116.881    -107.155\n",
       "KM               -0.0170      0.001    -14.160      0.000      -0.019      -0.015\n",
       "HP               36.6084      2.745     13.334      0.000      31.223      41.994\n",
       "cc               -3.7954      0.302    -12.562      0.000      -4.388      -3.203\n",
       "Doors          -122.5437     37.480     -3.270      0.001    -196.067     -49.021\n",
       "Gears           464.9839    180.976      2.569      0.010     109.975     819.993\n",
       "Quarterly_Tax     5.2134      1.371      3.802      0.000       2.523       7.904\n",
       "Weight           30.6398      1.290     23.748      0.000      28.109      33.171\n",
       "==============================================================================\n",
       "Omnibus:                      121.821   Durbin-Watson:                   1.701\n",
       "Prob(Omnibus):                  0.000   Jarque-Bera (JB):              704.567\n",
       "Skew:                          -0.082   Prob(JB):                    1.01e-153\n",
       "Kurtosis:                       6.431   Cond. No.                     3.45e+06\n",
       "==============================================================================\n",
       "\n",
       "Notes:\n",
       "[1] Standard Errors assume that the covariance matrix of the errors is correctly specified.\n",
       "[2] The condition number is large, 3.45e+06. This might indicate that there are\n",
       "strong multicollinearity or other numerical problems.\n",
       "\"\"\""
      ]
     },
     "execution_count": 42,
     "metadata": {},
     "output_type": "execute_result"
    }
   ],
   "source": [
    "model3 = ols('Price~Age_08_04+KM+HP+cc+Doors+Gears+Quarterly_Tax+Weight',data=TC_data2).fit()\n",
    "model3.summary()"
   ]
  },
  {
   "cell_type": "code",
   "execution_count": 43,
   "id": "b451dc85",
   "metadata": {},
   "outputs": [
    {
     "data": {
      "text/plain": [
       "(array([6.81552194e-03, 3.57661581e-03, 4.84694704e-03, ...,\n",
       "        1.03913055e-05, 1.10085349e-03, 1.82383296e-02]),\n",
       " array([1.        , 1.        , 1.        , ..., 1.        , 1.        ,\n",
       "        0.99999977]))"
      ]
     },
     "execution_count": 43,
     "metadata": {},
     "output_type": "execute_result"
    }
   ],
   "source": [
    "modelinf= model3.get_influence()\n",
    "(c, _) = modelinf.cooks_distance\n",
    "(c, _)"
   ]
  },
  {
   "cell_type": "code",
   "execution_count": 44,
   "id": "03a1647d",
   "metadata": {},
   "outputs": [
    {
     "data": {
      "image/png": "[encoded data removed]",
      "text/plain": [
       "<Figure size 1440x504 with 1 Axes>"
      ]
     },
     "metadata": {
      "needs_background": "light"
     },
     "output_type": "display_data"
    }
   ],
   "source": [
    "fig = plt.subplots(figsize=(20, 7)) \n",
    "plt.stem(np.arange(len(TC_data2)), np.round(c, 3)) \n",
    "plt.xlabel('Row index') \n",
    "plt.ylabel('Cooks Distance') \n",
    "plt.show()"
   ]
  },
  {
   "cell_type": "code",
   "execution_count": 45,
   "id": "c8387f7d",
   "metadata": {},
   "outputs": [
    {
     "data": {
      "text/html": [
       "<table class=\"simpletable\">\n",
       "<caption>OLS Regression Results</caption>\n",
       "<tr>\n",
       "  <th>Dep. Variable:</th>          <td>Price</td>      <th>  R-squared:         </th> <td>   0.885</td> \n",
       "</tr>\n",
       "<tr>\n",
       "  <th>Model:</th>                   <td>OLS</td>       <th>  Adj. R-squared:    </th> <td>   0.885</td> \n",
       "</tr>\n",
       "<tr>\n",
       "  <th>Method:</th>             <td>Least Squares</td>  <th>  F-statistic:       </th> <td>   1372.</td> \n",
       "</tr>\n",
       "<tr>\n",
       "  <th>Date:</th>             <td>Tue, 22 Mar 2022</td> <th>  Prob (F-statistic):</th>  <td>  0.00</td>  \n",
       "</tr>\n",
       "<tr>\n",
       "  <th>Time:</th>                 <td>13:36:08</td>     <th>  Log-Likelihood:    </th> <td> -12226.</td> \n",
       "</tr>\n",
       "<tr>\n",
       "  <th>No. Observations:</th>      <td>  1433</td>      <th>  AIC:               </th> <td>2.447e+04</td>\n",
       "</tr>\n",
       "<tr>\n",
       "  <th>Df Residuals:</th>          <td>  1424</td>      <th>  BIC:               </th> <td>2.452e+04</td>\n",
       "</tr>\n",
       "<tr>\n",
       "  <th>Df Model:</th>              <td>     8</td>      <th>                     </th>     <td> </td>    \n",
       "</tr>\n",
       "<tr>\n",
       "  <th>Covariance Type:</th>      <td>nonrobust</td>    <th>                     </th>     <td> </td>    \n",
       "</tr>\n",
       "</table>\n",
       "<table class=\"simpletable\">\n",
       "<tr>\n",
       "        <td></td>           <th>coef</th>     <th>std err</th>      <th>t</th>      <th>P>|t|</th>  <th>[0.025</th>    <th>0.975]</th>  \n",
       "</tr>\n",
       "<tr>\n",
       "  <th>Intercept</th>     <td>-1.474e+04</td> <td> 1432.942</td> <td>  -10.289</td> <td> 0.000</td> <td>-1.76e+04</td> <td>-1.19e+04</td>\n",
       "</tr>\n",
       "<tr>\n",
       "  <th>Age_08_04</th>     <td> -112.0180</td> <td>    2.479</td> <td>  -45.185</td> <td> 0.000</td> <td> -116.881</td> <td> -107.155</td>\n",
       "</tr>\n",
       "<tr>\n",
       "  <th>KM</th>            <td>   -0.0170</td> <td>    0.001</td> <td>  -14.160</td> <td> 0.000</td> <td>   -0.019</td> <td>   -0.015</td>\n",
       "</tr>\n",
       "<tr>\n",
       "  <th>HP</th>            <td>   36.6084</td> <td>    2.745</td> <td>   13.334</td> <td> 0.000</td> <td>   31.223</td> <td>   41.994</td>\n",
       "</tr>\n",
       "<tr>\n",
       "  <th>cc</th>            <td>   -3.7954</td> <td>    0.302</td> <td>  -12.562</td> <td> 0.000</td> <td>   -4.388</td> <td>   -3.203</td>\n",
       "</tr>\n",
       "<tr>\n",
       "  <th>Doors</th>         <td> -122.5437</td> <td>   37.480</td> <td>   -3.270</td> <td> 0.001</td> <td> -196.067</td> <td>  -49.021</td>\n",
       "</tr>\n",
       "<tr>\n",
       "  <th>Gears</th>         <td>  464.9839</td> <td>  180.976</td> <td>    2.569</td> <td> 0.010</td> <td>  109.975</td> <td>  819.993</td>\n",
       "</tr>\n",
       "<tr>\n",
       "  <th>Quarterly_Tax</th> <td>    5.2134</td> <td>    1.371</td> <td>    3.802</td> <td> 0.000</td> <td>    2.523</td> <td>    7.904</td>\n",
       "</tr>\n",
       "<tr>\n",
       "  <th>Weight</th>        <td>   30.6398</td> <td>    1.290</td> <td>   23.748</td> <td> 0.000</td> <td>   28.109</td> <td>   33.171</td>\n",
       "</tr>\n",
       "</table>\n",
       "<table class=\"simpletable\">\n",
       "<tr>\n",
       "  <th>Omnibus:</th>       <td>121.821</td> <th>  Durbin-Watson:     </th> <td>   1.701</td> \n",
       "</tr>\n",
       "<tr>\n",
       "  <th>Prob(Omnibus):</th> <td> 0.000</td>  <th>  Jarque-Bera (JB):  </th> <td> 704.567</td> \n",
       "</tr>\n",
       "<tr>\n",
       "  <th>Skew:</th>          <td>-0.082</td>  <th>  Prob(JB):          </th> <td>1.01e-153</td>\n",
       "</tr>\n",
       "<tr>\n",
       "  <th>Kurtosis:</th>      <td> 6.431</td>  <th>  Cond. No.          </th> <td>3.45e+06</td> \n",
       "</tr>\n",
       "</table><br/><br/>Notes:<br/>[1] Standard Errors assume that the covariance matrix of the errors is correctly specified.<br/>[2] The condition number is large, 3.45e+06. This might indicate that there are<br/>strong multicollinearity or other numerical problems."
      ],
      "text/plain": [
       "<class 'statsmodels.iolib.summary.Summary'>\n",
       "\"\"\"\n",
       "                            OLS Regression Results                            \n",
       "==============================================================================\n",
       "Dep. Variable:                  Price   R-squared:                       0.885\n",
       "Model:                            OLS   Adj. R-squared:                  0.885\n",
       "Method:                 Least Squares   F-statistic:                     1372.\n",
       "Date:                Tue, 22 Mar 2022   Prob (F-statistic):               0.00\n",
       "Time:                        13:36:08   Log-Likelihood:                -12226.\n",
       "No. Observations:                1433   AIC:                         2.447e+04\n",
       "Df Residuals:                    1424   BIC:                         2.452e+04\n",
       "Df Model:                           8                                         \n",
       "Covariance Type:            nonrobust                                         \n",
       "=================================================================================\n",
       "                    coef    std err          t      P>|t|      [0.025      0.975]\n",
       "---------------------------------------------------------------------------------\n",
       "Intercept     -1.474e+04   1432.942    -10.289      0.000   -1.76e+04   -1.19e+04\n",
       "Age_08_04      -112.0180      2.479    -45.185      0.000    -116.881    -107.155\n",
       "KM               -0.0170      0.001    -14.160      0.000      -0.019      -0.015\n",
       "HP               36.6084      2.745     13.334      0.000      31.223      41.994\n",
       "cc               -3.7954      0.302    -12.562      0.000      -4.388      -3.203\n",
       "Doors          -122.5437     37.480     -3.270      0.001    -196.067     -49.021\n",
       "Gears           464.9839    180.976      2.569      0.010     109.975     819.993\n",
       "Quarterly_Tax     5.2134      1.371      3.802      0.000       2.523       7.904\n",
       "Weight           30.6398      1.290     23.748      0.000      28.109      33.171\n",
       "==============================================================================\n",
       "Omnibus:                      121.821   Durbin-Watson:                   1.701\n",
       "Prob(Omnibus):                  0.000   Jarque-Bera (JB):              704.567\n",
       "Skew:                          -0.082   Prob(JB):                    1.01e-153\n",
       "Kurtosis:                       6.431   Cond. No.                     3.45e+06\n",
       "==============================================================================\n",
       "\n",
       "Notes:\n",
       "[1] Standard Errors assume that the covariance matrix of the errors is correctly specified.\n",
       "[2] The condition number is large, 3.45e+06. This might indicate that there are\n",
       "strong multicollinearity or other numerical problems.\n",
       "\"\"\""
      ]
     },
     "execution_count": 45,
     "metadata": {},
     "output_type": "execute_result"
    }
   ],
   "source": [
    "model3.summary()       #Best Fit Model"
   ]
  },
  {
   "cell_type": "code",
   "execution_count": 51,
   "id": "3fdfb2f3",
   "metadata": {},
   "outputs": [],
   "source": [
    "x=TC_data2.drop(labels=['Price'], axis=1)\n",
    "y=TC_data2[['Price']]"
   ]
  },
  {
   "cell_type": "code",
   "execution_count": 52,
   "id": "6b257498",
   "metadata": {},
   "outputs": [
    {
     "data": {
      "text/plain": [
       "((1433, 9), (1433, 1))"
      ]
     },
     "execution_count": 52,
     "metadata": {},
     "output_type": "execute_result"
    }
   ],
   "source": [
    "x.shape, y.shape"
   ]
  },
  {
   "cell_type": "code",
   "execution_count": 53,
   "id": "b4e70378",
   "metadata": {},
   "outputs": [],
   "source": [
    "from sklearn.model_selection import train_test_split"
   ]
  },
  {
   "cell_type": "code",
   "execution_count": 55,
   "id": "d7c9df45",
   "metadata": {},
   "outputs": [],
   "source": [
    "X_train,X_test,y_train,y_test=train_test_split(x,y,test_size=0.20,random_state=12)"
   ]
  },
  {
   "cell_type": "code",
   "execution_count": 56,
   "id": "68d4b1c1",
   "metadata": {},
   "outputs": [
    {
     "name": "stdout",
     "output_type": "stream",
     "text": [
      "(1146, 9) (287, 9) (1146, 1) (287, 1)\n"
     ]
    }
   ],
   "source": [
    "print(X_train.shape,\n",
    "X_test.shape,y_train.shape,y_test.shape)"
   ]
  },
  {
   "cell_type": "code",
   "execution_count": 57,
   "id": "5e4a2cf8",
   "metadata": {},
   "outputs": [],
   "source": [
    "y_train_pred = model3.predict(X_train)"
   ]
  },
  {
   "cell_type": "code",
   "execution_count": 58,
   "id": "f86f6978",
   "metadata": {},
   "outputs": [],
   "source": [
    "train_resid = y_train_pred - y_train['Price']"
   ]
  },
  {
   "cell_type": "code",
   "execution_count": 59,
   "id": "aa237a9a",
   "metadata": {},
   "outputs": [
    {
     "data": {
      "text/plain": [
       "1258.9789851861417"
      ]
     },
     "execution_count": 59,
     "metadata": {},
     "output_type": "execute_result"
    }
   ],
   "source": [
    "train_rmse = np.sqrt(np.mean(train_resid*train_resid))\n",
    "train_rmse"
   ]
  },
  {
   "cell_type": "code",
   "execution_count": 60,
   "id": "fce270b7",
   "metadata": {},
   "outputs": [],
   "source": [
    "y_test_pred = model3.predict(X_test)"
   ]
  },
  {
   "cell_type": "code",
   "execution_count": 61,
   "id": "b9ff7f45",
   "metadata": {},
   "outputs": [],
   "source": [
    "test_resid = y_test_pred - y_test['Price']"
   ]
  },
  {
   "cell_type": "code",
   "execution_count": 62,
   "id": "e4403e0b",
   "metadata": {},
   "outputs": [
    {
     "data": {
      "text/plain": [
       "1092.6552449954988"
      ]
     },
     "execution_count": 62,
     "metadata": {},
     "output_type": "execute_result"
    }
   ],
   "source": [
    "test_rmse = np.sqrt(np.mean(test_resid*test_resid))\n",
    "test_rmse"
   ]
  },
  {
   "cell_type": "code",
   "execution_count": null,
   "id": "2b2249e4",
   "metadata": {},
   "outputs": [],
   "source": []
  }
 ],
 "metadata": {
  "kernelspec": {
   "display_name": "Python 3 (ipykernel)",
   "language": "python",
   "name": "python3"
  },
  "language_info": {
   "codemirror_mode": {
    "name": "ipython",
    "version": 3
   },
   "file_extension": ".py",
   "mimetype": "text/x-python",
   "name": "python",
   "nbconvert_exporter": "python",
   "pygments_lexer": "ipython3",
   "version": "3.9.7"
  }
 },
 "nbformat": 4,
 "nbformat_minor": 5
}
